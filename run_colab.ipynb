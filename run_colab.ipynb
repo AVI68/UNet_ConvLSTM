{
 "cells": [
  {
   "cell_type": "code",
   "execution_count": null,
   "id": "2b97cbcb-463d-478f-a130-3225d9884852",
   "metadata": {},
   "outputs": [],
   "source": [
    "# importing google drive and mount the drive content\n",
    "from google.colab import drive\n",
    "drive.mount('/content/drive')\n",
    "# unzip my data file\n",
    "!unzip /content/drive/MyDrive/radar_data_unica_2018_2023_sorted.zip -d /content/radar_data_unica_2018_2023_sorted\n",
    "\n",
    "# clone git directory \n",
    "!git clone https://github.com/AVI68/UNet_ConvLSTM.git\n"
   ]
  }
 ],
 "metadata": {
  "kernelspec": {
   "display_name": "Python 3 (ipykernel)",
   "language": "python",
   "name": "python3"
  },
  "language_info": {
   "codemirror_mode": {
    "name": "ipython",
    "version": 3
   },
   "file_extension": ".py",
   "mimetype": "text/x-python",
   "name": "python",
   "nbconvert_exporter": "python",
   "pygments_lexer": "ipython3",
   "version": "3.12.4"
  }
 },
 "nbformat": 4,
 "nbformat_minor": 5
}
